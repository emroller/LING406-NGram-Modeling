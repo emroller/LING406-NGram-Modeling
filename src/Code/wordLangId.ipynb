{
 "metadata": {
  "language_info": {
   "codemirror_mode": {
    "name": "ipython",
    "version": 3
   },
   "file_extension": ".py",
   "mimetype": "text/x-python",
   "name": "python",
   "nbconvert_exporter": "python",
   "pygments_lexer": "ipython3",
   "version": "3.8.2-final"
  },
  "orig_nbformat": 2,
  "kernelspec": {
   "name": "python3",
   "display_name": "Python 3.8.2 64-bit",
   "metadata": {
    "interpreter": {
     "hash": "31f2aee4e71d21fbe5cf8b01ff0e069b9275f58929596ceb00d14d90e3e16cd6"
    }
   }
  }
 },
 "nbformat": 4,
 "nbformat_minor": 2,
 "cells": [
  {
   "cell_type": "code",
   "execution_count": 99,
   "metadata": {},
   "outputs": [],
   "source": [
    "import re\n",
    "import os"
   ]
  },
  {
   "cell_type": "code",
   "execution_count": 100,
   "metadata": {},
   "outputs": [],
   "source": [
    "# global variables\n",
    "eng_bigrams = None\n",
    "fr_bigrams = None\n",
    "ital_bigrams = None\n",
    "\n",
    "eng_unigrams = None\n",
    "fr_unigrams = None\n",
    "ital_unigrams = None"
   ]
  },
  {
   "cell_type": "code",
   "execution_count": 101,
   "metadata": {},
   "outputs": [],
   "source": [
    "# global variables\n",
    "eng_bigrams = None\n",
    "fr_bigrams = None\n",
    "ital_bigrams = None\n",
    "\n",
    "eng_unigrams = None\n",
    "fr_unigrams = None\n",
    "ital_unigrams = None"
   ]
  },
  {
   "cell_type": "code",
   "execution_count": 102,
   "metadata": {
    "tags": [
     "outputPrepend"
    ]
   },
   "outputs": [
    {
     "output_type": "stream",
     "name": "stdout",
     "text": [
      "ione pact , pari a 2,3 milioni di euro , è stata utilizzata a favore del trasporto marittimo a corto raggio combinato .', 'nel 2000 tale quota aumenterà ; è nostra intenzione , infatti , portarla al 50 percento .', \"la direzione generale competente intende mantenere questa linea d ' azione , in modo che il trasporto marittimo a corto raggio continui a fruire della giusta quota della dotazione pact .\", \"in occasione dell ' imminente revisione del programma , si potrebbe anche arrivare ad incorporare tale principio nel testo ufficiale .\", \"l ' onorevole purvis mi ha chiesto di trasmettere il suo invito alla mia collega , commissario signora de palacio .\", \"lo farò senz ' altro e la signora apprezzerà certamente la prospettiva di una romantica gita in scozia , che peraltro sarebbe ancora più romantica se l ' onorevole purvis volesse cedere a me il piacere di accompagnare il commissario de palacio .\", 'onorevole peijs , la ringrazio per il lavoro svolto e per avere confermato che tutti ci stiamo muovendo nella stessa direzione .', 'auspico che si possa agire in un clima di collaborazione e garantisco che la commissione farà del proprio meglio .', \"signor presidente , desidero esprimere il mio disappunto in merito ad una questione , già oggetto di un ' interrogazione scritta alla commissione da me presentata più di sei mesi fa , che ho riproposto nel corso della discussione e sulla quale non ho ancora ricevuto alcun segnale , tanto meno una risposta .\", 'la ringrazio , onorevole maccormick .', 'la votazione si svolgerà domani , venerdì , alle 9.00 .', 'dialogo civile', \"l ' ordine del giorno reca l ' interrogazione orale alla commissione ( b5 - 0533 / 2000 ) , a nome della commissione per l ' occupazione e gli affari sociali , sul futuro finanziamento del dialogo civile .\", \"ha facoltà di parlare l ' onorevole pronk .\", \"signor presidente , mi auguro che a quest ' ora tarda non avremo bisogno di molto tempo .\", \"e ' un peccato che dobbiamo concludere questa discussione di per sé assai importante .\", \"se mi è consentito cogliere l ' occasione , penso che forse sarebbe opportuno se in futuro il martedì non decidessimo di introdurre il martedì sera un ' ulteriore tornata di votazioni , in modo da non incorrere in ulteriori ritardi nel corso della settimana .\", \"forse sarebbe bene che lei presentasse questa proposta all ' ufficio di presidenza .\", 'naturalmente ciò non ha nulla a che fare con tali problemi .', \"non c ' è bisogno che mi dilunghi in molte spiegazioni .\", \"in primo luogo è indubbio che le organizzazioni non governative svolgono un ruolo estremamente importante sia negli stati membri sia nell ' unione europea sia al di fuori di essa .\", \"tutti sono d ' accordo su questo , lo ha detto il consiglio , lo ha affermato più volte la commissione e anche il parlamento lo ha ribadito in più occasioni .\", \"inoltre , all ' articolo 13. se associato alle dichiarazioni 23 e 3. il trattato sottolinea che ci dev ' essere collaborazione con , in particolare , i wohlfahrtsverband , che ovviamente sono anche ong .\", 'il parlamento europeo lo ha sempre fatto e a tale fine ha creato già parecchio tempo fa una linea di bilanci. la b3 410. per rendere possibile il finanziamento delle ong .', 'però , in seguito alle diverse disposizioni concordate con il consiglio e alle sentenze della corte di giustizia , dopo circa tre anni la suddetta linea si è praticamente esaurita .', 'già da tre anni commissione sapeva che ciò sarebbe accaduto .', 'non è questo il problema , bensì il fatto che si faccia così poco .', \"da un lato vediamo grande interesse , dall ' altro notiamo relativamente poche azioni concrete , ad eccezione del documento elaborato dalla commissione , che noi richiediamo a gran voce .\", 'il punto è come riuscire a tradurre in realtà le belle idee espresse .', 'a ciò si aggiungono spess. non lo dico a nome della commissione , ma a titolo personal. problemi di carattere burocratico .', \"e ' possibile che ciò sia dovuto al fatto che sono coinvolte diverse direzioni generali della commissione .\", \"le ong non ricadono sotto un ' unica dg .\", \"e ' possibile che si cerchi un ' ottica comune e che allo stesso tempo si vogliano individuare delle ottiche specifiche , ma ad ogni modo ciò richiede troppo tempo , perché le linee di bilancio si esauriscono .\", \"questo è il motivo per cui stasera , a quest ' ora di per sé inopportuna , richiamiamo l ' attenzione della commissione su questo problema .\", \"in particolare si tratta di una questione di velocità ; non si tratta dell ' intento della commissione , ma della velocità alla quale è possibile realizzare i diversi obiettivi , poiché altrimenti rischiamo che sia uno dei compiti chiave affidatoci dal trattato nelle dichiarazioni sia quanto ribadito nell ' ambito del vertice di feira non possano essere attuati per il fatto che le ong , o almeno la maggior parte di ess. questo è l ' unico problema - , sono estremamente vulnerabili per quanto riguarda le interruzioni nei pagamenti , lo sono molto di più rispetto ad altre organizzazioni e certamente agli stati membri .\", 'ciò significa che , se si aspetta troppo , esse sono destinate a morte sicura .', 'questa è la grande preoccupazione che serpeggia nella commissione ed è il motivo per cui poniamo i quesiti in oggetto e per cui ci auguriamo che la commissione affronti in tempi rapidi il problema nel quadro delle possibilità offerte dal trattato e nel quadro del clima di globale disponibilità che il consiglio ha fatto trasparire a feira , che il parlamento ha percepito e che la commissione ha fatto vedere .', 'signor presidente , sarò telegrafico .', 'ritengo che la risposta del signor commissario sia di per sé incoraggiante .', 'penso che in effetti il parlamento debba fare del suo meglio per non ostacolare le procedure .', 'devo però rilevare che il parlamento , con le possibilità che gli si offrivano , soprattutto sotto il profilo finanziario , ha fatto del suo meglio per mantenere le linee di bilancio che consentivano di continuare a finanziare le ong , solo che , a partire da un certo momento , ciò non è più possibile e pertanto acquista grande rilevanza la velocità .', \"un ' ultima osservazione in relazione alla risposta ufficiale del commissario in merito alla conferenza intergovernativa .\", \"non si tratta tanto del contenuto dell ' attuale trattato o delle attuali dichiarazioni , bensì di elaborare le dichiarazioni in modo da poter creare una base giuridica sulla quale fondare un programma .\", \"questo è il vero problema e chiedo al signor commissario se la commissione possa rivolgere l ' attenzione su questo aspetto .\", 'non chiediamo quindi un nuovo trattato , ma maggiore attenzione .', \"infine , in considerazione del fatto che anche nel quadro dell ' ampliamento dobbiamo affrontare il tema dello sviluppo delle ong nei nuovi stati membri , riteniamo che a tale problematica debba essere riservata la massima priorità .\", \"signor presidente , intervengo a nome del gruppo socialista a sostegno di quanto ha espresso l ' onorevole pronk a nome di tutta la commissione .\", \"devo dire , riferendomi alle risposte del commissario , che non mi hanno del tutto soddisfatto , nel senso che i documenti , cui si è fatto riferimento , li conosciamo , però , come diceva l ' onorevole pronk , ci vuole tempestività e forse un po ' più di decisione nella concretezza .\", 'sappiamo che da anni esiste un colloquio .', \"noi , come parlamento , abbiamo avuto un ruolo fondamentale in questo , pero ' , ora , dai colloqui e dalle dichiarazioni occorre passare agli atti concreti .\", 'io credo che la commissione debba muoversi nella direzione di proporre delle soluzioni concrete , perché altrimenti questo problema non si risolve .', \"trovo anche una certa contraddizione e provo una certa preoccupazione , che non è solo mia ma credo anche della commissione per l ' occupazione e gli affari sociali , perché mi sembra che i comportamenti della commissione siano un po ' contraddittori fra di loro .\", \"il ruolo delle organizzazioni non governative nel processo di costruzione democratica dell ' unione e il ruolo anche sul piano economico e sociale che esse svolgono in europa , tutto il settore dell ' economia sociale , del terzo settore , ormai è riconosciuto , non solo nei documenti ma nella concreta realt. se teniamo conto che circa nove milioni di lavoratori sono occupati in questo settor. come un settore fondamentale e importante .\", 'ebbene , la commissione , nelle sue ultime scelt. mi riferisco alla direzione generale industri. ritiene che questa sia una priorità negativ. ora hanno inventato le priorità positive e negativ. e ha soppresso l \\' unità operativa \" economia sociale \" .', 'bene , io credo che questo sia gravissimo e non ci fa ben sperare che le dichiarazioni che qui vengono riaffermate , che abbiamo sentito più volte , portino poi a degli atti concreti nella direzione contraria .', \"la piattaforma delle ong , strumento con cui la commissione e il parlamento hanno mantenuto un colloquio , tutto questo mondo si sente un po ' preso in giro , e credo che anche noi parlamentari ci sentiamo un po ' presi in giro , quando le dichiarazioni vanno in una certa direzione e , poi , le decisioni concrete vanno in un ' altra .\", 'la mancanza di un interlocutore , anche dal punto di vista funzionariale , renderà più difficile la soluzione di questi problemi , invece di renderli più facili .', 'allora , se davvero vogliamo affrontarli in senso positivo , accelerare le procedure e dare delle risposte positive , non solo alle organizzazioni non governative ma ai cittadini europei , credo che occorrerebbe ripensare tutta una serie di decisioni e ritornare , soprattutto , su una serie di decisioni .', 'signor presidente , molti di noi , nel gruppo verde / alleanza libera europea , hanno cominciato la propria attività aderendo al movimento delle organizzazioni non governative e a quello attivista . si tratta quindi di un mondo a noi molto caro .', \"proprio oggi abbiamo discusso sulla relazione annuale della commissione per le petizioni , ovvero di quella parte relativa alle doglianze che concorre a formare il processo di valutazione di ciò che accade nell ' unione europea .\", 'le ong , dal nostro punto di vista , agiscono come una parte del processo di prevenzione e costituiscono un meccanismo di indagine , un modo per accertare che non vadano perduti taluni aspetti delle norme che andiamo elaborando .', 'esse ci portano a considerare elementi di novità e sono fondamentali nel processo di cui noi siamo parte , oltre ad essere tra le poche organizzazioni che agiscono davvero per conto dei cittadini . se intendiamo davvero creare un clima di fiducia entro le strutture che cerchiamo di costruire , il loro ruolo è certamente essenziale .', \"un elemento di indubbia importanza riguarda il fatto che le ong possono controbilanciare i tanti interessi economici che non sembrano avere difficoltà finanziarie a trovare una strada che conduca alla nostra porta , mentre per molte ong l ' azione a livello internazionale è enormemente costosa .\", \"il lavoro svolto dalle varie commissioni nel corso delle ultime settimane sull ' articolo 13, quello contro la discriminazione , sarebbe stato impossibile senza la collaborazione di questi soggetti .\", \"e ' quindi essenziale e necessario definire con chiarezza una base giuridica per la partecipazione e il finanziamento delle ong , perché senza di esse la nostra istituzione non può funzionare .\", \"si è parlato dei paesi candidati e non posso che ripetere le parole del mio collega , onorevole pronk , e riaffermare che il movimento costituito dalle ong e dalla società civile in quei paesi sarà fondamentale per realizzare un ' unione europea costruita sui valori della giustizia e della democrazia .\", \"voglio infine insistere sul fatto che si debba trovare una via per creare un meccanismo serio e affidabile di finanziamento almeno a favore delle organizzazioni che rappresentano i cittadini poveri , esclusi e discriminati , in modo che esse non debbano affannarsi ogni anno a reperire finanziamenti senza sapere se riusciranno a sopravvivere e a proseguire l ' opera per la quale sono state istituite .\", \"signor presidente , negli ultimi anni l ' unione ha ricevuto sempre più importanti competenze in materia sociale , però non ha avuto a disposizione fondi corrispondenti per risolvere i problemi di natura sociale .\", 'fintantoché gli stati membri riterranno che le questioni sociali rappresentino una competenza sostanzialmente nazionale , questo stato di cose non cambierà in tempi rapidi .', 'sappiamo che i fondi disponibili sono strettamente legati al bilancio e che operare storni non è facile .', 'e , sino a quando questa sarà la concezione degli stati membri , sarà molto difficile soddisfare nuove esigenze .', 'per tali ragioni ritengo della massima importanza per noi , che lavoriamo in seno alle istituzioni comunitarie , riconoscere alle organizzazioni non governative che operano in ambito sociale in europa molta più importanza di quanto accade ora .', 'tutti riconosciamo la necessità di azioni transfrontaliere anche in ambito sociale .', 'ecco perché vi è spazio per le ong .', \"ma sarebbe del tutto infelice , ed è forse proprio questa l ' intenzione degli stati membri , se le ong divenissero economicamente dipendenti dall ' ue , e politicamente del tutto vincolate a quest. ancor più di quanto non stia già accadendo .\", \"il loro valore risiede proprio nel loro carattere volontario e civico e nella capacità di vedere i problemi sociali in un ' altra prospettiva rispetto alle autorità ; ciò consente alle ong di fungere da complemento , da alternativa rispetto a commissione , consiglio e parlamento .\", 'nonostante siano in pochi ad ascoltar. vedo che i parlamentari in aula sono circa sei soltant. vorrei presentare una proposta .', 'propongo che la commissione si dia da fare per istituire un fondo europeo finalizzato proprio alle ong operanti in ambito sociale .', 'propongo che la commissione interpelli il consiglio e gli stati membri nel tentativo di ottenere un contributo per tale fondo .', 'dovrebbe trattarsi di un fondo creato a titolo di organismo indipendente , con un consiglio di amministrazione composto da persone provenienti dalle organizzazioni sociali stesse , da ricercatori e da esperti di questioni sociale .', 'si potrebbe ipotizzare che una simile organizzazione possa sottrarsi a una parte dei problemi connessi alla burocrazia .', 'il controllo economico avverrebbe a cura di revisori professionisti .', 'credo che , se tale sfida verrà raccolta con una certa finezza diplomatica , gli stati membri reagiranno positivamente alla proposta .', \"e credo ancora che le altre parti , sia i soggetti socialmente penalizzati , sia le ong , sia gli stai membri , sia le istituzioni dell ' unione si rallegrerebbero enormemente della creazione di un simile fondo .\", 'signor presidente , concordo con quanto hanno affermato le onorevoli lambert e ghilardotti .', 'le ong europee attive in campo sociale hanno assunto un ruolo essenziale per il lavoro del parlamento .', \"chiunque abbia partecipato all ' elaborazione del pacchetto contro la discriminazione , ovvero l ' articolo 13, se ne è reso ben conto .\", \"a partire dalla crisi di bilancio del 1998, a causa della quale sono stati congelati i fondi destinati all ' azione delle ong a favore dei cittadini più deboli in europa e nei paesi in via di sviluppo , sono stati fatti molti progressi .\", 'la presidenza portoghese ha avviato un nuovo corso , invitando la piattaforma europea delle ong al vertice informale di lisbona in materia di affari sociali , e la presidenza francese sta percorrendo la stessa via .', 'le conclusioni del vertice di lisbona contengono un esplicito riferimento a questo genere di iniziative .', 'ma le parole non bastano e le difficoltà , due anni dopo la crisi del 1998, non sono affatto scomparse .', 'dopo un biennio di consultazioni con le ong , la commissione è stata in grado solo di produrre un documento di riflessione e di costituire due gruppi interni di lavoro che hanno lavorato assai poco .', 'nel frattempo il settore delle ong , in cui io stesso ho avuto modo di lavorare , sta soffocando a causa di norme burocratiche che , introdotte per promuovere la trasparenza e la responsabilità , alla fine hanno creato soltanto ulteriori oneri burocratici .', 'anche la nostra assemblea , signor presidente , contribuisce a complicare la situazione già difficile delle ong , approvando complesse norme in materia di requisiti di cofinanziamento a cui si accompagnano scadenze strettissime .', \"l ' unica linea di bilancio a disposizione , la b3 4101, è stata smantellata e la commissione non ha prodotto alcuna proposta finalizzata a stabilire una base giuridica per il dialogo civile per mezzo di un regolamento del consiglio o di un articolo del trattato .\", \"ma quel che è peggio , alle ong attive in campo sociale la commissione ha comunicato che il finanziamento a loro favore dovrà utilizzare le nuove linee di bilancio dedicate alla lotta alla discriminazione e all ' esclusione sociale .\", 'ma come sarà possibile farlo se i fondi a disposizione per quei programmi sono stati ridotti oltre ogni misura ragionevole ?', \"molte ong , la cui azione in campo sociale è preziosa , devono fronteggiare una situazione di grave crisi a causa dell ' inerzia della commissione e del consiglio .\", 'conosco il caso di una ong che ha richiesto il finanziamento su alcuni progetti per i quali era necessario presentare ottanta pagine di documenti di bilancio e un tale numero di documenti di supporto che la domanda di finanziamento alla fine pesava oltre dodici chilogrammi .', 'questa situazione deve mutare , signor presidente .', 'le ong sono fondamentali per il nostro lavoro e noi abbiamo il dovere di sostenerle .', 'ringrazio tutti gli onorevoli deputati che sono intervenuti nella discussione per le loro osservazioni , anche per quelle negative .', \"sarà mia cura inoltrarle a chi di dovere e iscriverle nell ' agenda della commissione .\", 'risponderò ora brevemente a due sole osservazioni .', 'la prima riguarda le basi giuridiche e il finanziamento .', 'non va dimenticato che l \\' elemento distintivo delle organizzazioni non governative è che esse non dovrebbero dipendere da finanziamenti pubblici , ché altrimenti non potrebbero chiamarsi \" organizzazioni non governative \" , bensì dovrebbero chiamarsi \" organizzazioni governative \" .', 'mi riesce pertanto difficile comprendere la richiesta , espressa più volte , secondo cui dovrebbero essere i governi o la commissione ad assicurare integralmente il finanziamento delle ong .', 'no , ci possono essere solo e soltanto forme di sostegno e di collaborazione ai progetti .', 'un tanto per mettere in chiaro una questione di principio .', \"la seconda osservazione si riferisce ad un punto che è stato affrontato ripetutamente , ossia le ong e l ' allargamento .\", 'desidero rispondere perché questa materia rientra nelle mie competenze dirette .', 'tutte le proposte che sono state formulate in proposito durante la discussione odierna sono divenute realtà già da lungo tempo .', \"nell ' ambito degli aiuti di preadesione siamo fortemente impegnati nella collaborazione con le ong dei paesi candidati , mentre la strategia di comunicazione , il cui quadro organizzativo e finanziario è stato nel frattempo precisato , è rivolta anch ' essa in modo particolare alle ong di detti paesi , poiché l ' obiettivo è esattamente quello di coinvolgere appieno la società civile in questo importante processo politico .\", 'riporterò fedelmente alla commissione tutte le altre osservazioni fatte oggi , dalle quali , se ho bene interpretato , emerge un atteggiamento di fondo negativo . vi posso ad ogni modo garantire che io stesso mi darò da fare con grande impegno affinché le procedure siano semplificate e le decisioni siano accelerate .', 'vi ringrazio , onorevoli colleghi .', '( la seduta termina alle 21.08 )']\n"
     ]
    }
   ],
   "source": [
    "# start here\n",
    "# TODO: fix directory stuff before submitting\n",
    "cwd = os.getcwd()\n",
    "print(cwd)\n",
    "\n",
    "# open all the input training files\n",
    "# TODO: CHANGE THIS!!!!!!\n",
    "input_eng = open(\"/Users/emilyroller/Downloads/assignment-2-emroller-main/src/Data/Input/LangId.train.English\")\n",
    "input_fr = open(\"/Users/emilyroller/Downloads/assignment-2-emroller-main/src/Data/Input/LangId.train.French\")\n",
    "input_ital = open(\"/Users/emilyroller/Downloads/assignment-2-emroller-main/src/Data/Input/LangId.train.Italian\")\n",
    "\n",
    "# create english, french, and italian letter bigram counts\n",
    "\n",
    "eng_bigrams = file_to_bigrams(input_eng)\n",
    "fr_bigrams = file_to_bigrams(input_fr)\n",
    "ital_bigrams = file_to_bigrams(input_ital)\n",
    "\n",
    "# create english, french, and italian letter unigram counts\n",
    "eng_unigrams = create_unigrams(input_eng)\n",
    "fr_unigrams = create_unigrams(input_fr)\n",
    "ital_unigrams = create_unigrams(input_ital)\n",
    "\n",
    "\n",
    "# open input testing file\n",
    "input_test = open(\"/Users/emilyroller/Downloads/assignment-2-emroller-main/src/Data/Validation/LangId.test\")\n",
    "# open output testing file (write to this)\n",
    "output_test = open(\"/Users/emilyroller/Downloads/assignment-2-emroller-main/src/Data/Output/wordLangId.out\", \"w+\")\n",
    "\n",
    "line_count = 1\n",
    "\n",
    "# iterate through input file and write the most likely language for each line in output file\n",
    "for line in input_test.readlines():\n",
    "    # choose_language returns a string: \"English\", \"French\", or \"Italian\"\n",
    "    lang = choose_language(line)\n",
    "    # write it to output file along with line number\n",
    "    l = str(line_count) + lang + \"\\n\"\n",
    "    output_test.write(l)\n",
    "    line_count = line_count + 1\n",
    "\n",
    "input_eng.close()\n",
    "input_fr.close()\n",
    "input_ital.close()\n",
    "input_test.close()\n",
    "output_test.close()"
   ]
  },
  {
   "cell_type": "code",
   "execution_count": 103,
   "metadata": {},
   "outputs": [],
   "source": [
    "def create_unigrams(infile):\n",
    "    # so it can be read again\n",
    "    infile.seek(0)\n",
    "    lines = []\n",
    "    for line in infile.readlines():\n",
    "            # strip all punctionation from each lowercased word\n",
    "        no_punc = re.sub('.\\n', '', line.lower())\n",
    "        lines.append(no_punc)\n",
    "    \n",
    "    # create unigram dictionary\n",
    "    unigrams = {}\n",
    "    for l in lines:\n",
    "        for i in range(0, len(l)):\n",
    "            bg = (l[i])\n",
    "\n",
    "            if bg not in unigrams.keys():\n",
    "                unigrams[bg] = 1  \n",
    "            else:\n",
    "                unigrams[bg] = unigrams[bg] + 1\n",
    "\n",
    "    return unigrams "
   ]
  },
  {
   "cell_type": "code",
   "execution_count": 104,
   "metadata": {},
   "outputs": [],
   "source": [
    "# calls create bigrams\n",
    "# use this function when creating the bigram models from the training files \n",
    "def file_to_bigrams(infile):\n",
    "    lines = []\n",
    "    for line in infile.readlines():\n",
    "            # strip all punctionation from each lowercased word\n",
    "        no_punc = re.sub('.\\n', '', line.lower())\n",
    "        lines.append(no_punc)\n",
    "\n",
    "    print(lines)\n",
    "    return create_bigrams(lines)\n"
   ]
  },
  {
   "cell_type": "code",
   "execution_count": 105,
   "metadata": {},
   "outputs": [],
   "source": [
    "# trains the model for a language\n",
    "# creates a dictionary of bigrams with keys = (bigram tuple), value = count\n",
    "# i.e. one entry might be ('t', 'h'): 3\n",
    "def create_bigrams(lines):\n",
    "    \n",
    "    # create bigram ditionary\n",
    "    bigrams = {}\n",
    "    for w in lines:\n",
    "        for i in range(0, len(w) - 1):\n",
    "            bg = ((w[i], w[i+1]))\n",
    "\n",
    "            if bg not in bigrams.keys():\n",
    "                bigrams[bg] = 1  \n",
    "            else:\n",
    "                bigrams[bg] = bigrams[bg] + 1\n",
    "\n",
    "    return bigrams \n"
   ]
  },
  {
   "cell_type": "code",
   "execution_count": 106,
   "metadata": {},
   "outputs": [],
   "source": [
    "# calculate the probabilities of each language for the input line\n",
    "# and returns a string form of the language that is most likely\n",
    "def choose_language(line):\n",
    "\n",
    "    # calculate probabilities of line being the given language\n",
    "    eng_prob = calc_probability(line, eng_bigrams, eng_unigrams)\n",
    "    fr_prob = calc_probability(line, fr_bigrams, fr_unigrams)\n",
    "    ital_prob = calc_probability(line, ital_bigrams, ital_unigrams)\n",
    "\n",
    "    # find highest likelihood language\n",
    "    highest_prob = max(eng_prob, fr_prob, ital_prob)\n",
    "\n",
    "    # return the language with the highest likelihood\n",
    "    if highest_prob == eng_prob:\n",
    "        return \" English\"\n",
    "    \n",
    "    if highest_prob == fr_prob:\n",
    "        return \" French\"\n",
    "\n",
    "    if highest_prob == ital_prob:\n",
    "        return \" Italian\"\n",
    "\n",
    "    # shouldn't be here....\n",
    "    return \":(\""
   ]
  },
  {
   "cell_type": "code",
   "execution_count": 107,
   "metadata": {},
   "outputs": [],
   "source": [
    "def calc_probability(line, bigrams, unigrams):\n",
    "    words = []\n",
    "    for word in line.split():\n",
    "            # strip all punctionation from each lowercased word\n",
    "            no_punc = re.sub('[^a-zA-Z]+', '', word.lower())\n",
    "            words.append(no_punc)\n",
    "    \n",
    "    line_bigrams = create_bigrams(words)\n",
    "    \n",
    "    probabilities = {}\n",
    "    for bigram in line_bigrams.keys():\n",
    "        letter1 = bigram[0]\n",
    "        # calculating probabilities using NO smoothing\n",
    "        if bigram in bigrams and letter1 in unigrams:\n",
    "            probabilities[bigram] = bigrams[bigram]  / unigrams[letter1] \n",
    "        else:\n",
    "            probabilities[bigram] = 0\n",
    "\n",
    "    sum_prob = 0\n",
    "    for k in probabilities.keys():\n",
    "        sum_prob = sum_prob + probabilities[k]\n",
    "    \n",
    "    return sum_prob"
   ]
  },
  {
   "cell_type": "code",
   "execution_count": null,
   "metadata": {},
   "outputs": [],
   "source": []
  }
 ]
}