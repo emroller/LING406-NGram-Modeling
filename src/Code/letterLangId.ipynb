{
 "metadata": {
  "language_info": {
   "codemirror_mode": {
    "name": "ipython",
    "version": 3
   },
   "file_extension": ".py",
   "mimetype": "text/x-python",
   "name": "python",
   "nbconvert_exporter": "python",
   "pygments_lexer": "ipython3",
   "version": "3.8.2-final"
  },
  "orig_nbformat": 2,
  "kernelspec": {
   "name": "python3",
   "display_name": "Python 3.8.2 64-bit",
   "metadata": {
    "interpreter": {
     "hash": "31f2aee4e71d21fbe5cf8b01ff0e069b9275f58929596ceb00d14d90e3e16cd6"
    }
   }
  }
 },
 "nbformat": 4,
 "nbformat_minor": 2,
 "cells": [
  {
   "cell_type": "code",
   "execution_count": 137,
   "metadata": {},
   "outputs": [],
   "source": [
    "import re\n",
    "import os"
   ]
  },
  {
   "cell_type": "code",
   "execution_count": 138,
   "metadata": {},
   "outputs": [],
   "source": [
    "# global variables\n",
    "eng_bigrams = None\n",
    "fr_bigrams = None\n",
    "ital_bigrams = None\n",
    "\n",
    "eng_unigrams = None\n",
    "fr_unigrams = None\n",
    "ital_unigrams = None"
   ]
  },
  {
   "cell_type": "code",
   "execution_count": 146,
   "metadata": {
    "tags": []
   },
   "outputs": [],
   "source": [
    "# start here\n",
    "# TODO: fix directory stuff before submitting\n",
    "\n",
    "# open all the input training files\n",
    "# TODO: CHANGE THIS!!!!!!\n",
    "input_eng = open(\"/Users/emilyroller/Downloads/assignment-2-emroller-main/src/Data/Input/LangId.train.English\")\n",
    "input_fr = open(\"/Users/emilyroller/Downloads/assignment-2-emroller-main/src/Data/Input/LangId.train.French\")\n",
    "input_ital = open(\"/Users/emilyroller/Downloads/assignment-2-emroller-main/src/Data/Input/LangId.train.Italian\")\n",
    "\n",
    "# create english, french, and italian letter bigram counts\n",
    "\n",
    "eng_bigrams = file_to_bigrams(input_eng)\n",
    "fr_bigrams = file_to_bigrams(input_fr)\n",
    "ital_bigrams = file_to_bigrams(input_ital)\n",
    "\n",
    "# create english, french, and italian letter unigram counts\n",
    "eng_unigrams = create_unigrams(input_eng)\n",
    "fr_unigrams = create_unigrams(input_fr)\n",
    "ital_unigrams = create_unigrams(input_ital)\n",
    "\n",
    "\n",
    "# open input testing file\n",
    "input_test = open(\"/Users/emilyroller/Downloads/assignment-2-emroller-main/src/Data/Validation/LangId.test\")\n",
    "# open output testing file (write to this)\n",
    "output_test = open(\"/Users/emilyroller/Downloads/assignment-2-emroller-main/src/Data/Output/letterLangId.out\", \"w+\")\n",
    "\n",
    "line_count = 1\n",
    "\n",
    "# iterate through input file and write the most likely language for each line in output file\n",
    "for line in input_test.readlines():\n",
    "    # choose_language returns a string: \"English\", \"French\", or \"Italian\"\n",
    "    lang = choose_language(line)\n",
    "    # write it to output file along with line number\n",
    "    l = str(line_count) + lang + \"\\n\"\n",
    "    output_test.write(l)\n",
    "    line_count = line_count + 1\n",
    "\n",
    "input_eng.close()\n",
    "input_fr.close()\n",
    "input_ital.close()\n",
    "input_test.close()\n",
    "output_test.close()"
   ]
  },
  {
   "cell_type": "code",
   "execution_count": 140,
   "metadata": {},
   "outputs": [],
   "source": [
    "def create_unigrams(infile):\n",
    "    # so it can be read again\n",
    "    infile.seek(0)\n",
    "    words = []\n",
    "    for line in infile.readlines():\n",
    "        for word in line.split():\n",
    "            # strip all punctionation from each lowercased word\n",
    "            no_punc = re.sub(\"[@#$%&.,:;!]+\", '', word.lower())\n",
    "            words.append(no_punc)\n",
    "    \n",
    "    # create unigram dictionary\n",
    "    unigrams = {}\n",
    "    for w in words:\n",
    "        for i in range(0, len(w)):\n",
    "            bg = (w[i])\n",
    "\n",
    "            if bg not in unigrams.keys():\n",
    "                unigrams[bg] = 1  \n",
    "            else:\n",
    "                unigrams[bg] = unigrams[bg] + 1\n",
    "\n",
    "    return unigrams "
   ]
  },
  {
   "cell_type": "code",
   "execution_count": 141,
   "metadata": {},
   "outputs": [],
   "source": [
    "def file_to_bigrams(infile):\n",
    "    words = []\n",
    "    for line in infile.readlines():\n",
    "        for word in line.split():\n",
    "            # strip all punctionation from each lowercased word\n",
    "            no_punc = re.sub(\"[@#$%&.,:;!]+\", '', word.lower())\n",
    "            words.append(no_punc)\n",
    "    \n",
    "    return create_bigrams(words)\n"
   ]
  },
  {
   "cell_type": "code",
   "execution_count": 142,
   "metadata": {},
   "outputs": [],
   "source": [
    "# trains the model for a language\n",
    "# creates a dictionary of bigrams with keys = (bigram tuple), value = count\n",
    "# i.e. one entry might be ('t', 'h'): 3\n",
    "def create_bigrams(words):\n",
    "    \n",
    "    # create bigram ditionary\n",
    "    bigrams = {}\n",
    "    for w in words:\n",
    "        for i in range(0, len(w) - 1):\n",
    "            bg = ((w[i], w[i+1]))\n",
    "\n",
    "            if bg not in bigrams.keys():\n",
    "                bigrams[bg] = 1  \n",
    "            else:\n",
    "                bigrams[bg] = bigrams[bg] + 1\n",
    "\n",
    "    return bigrams \n"
   ]
  },
  {
   "cell_type": "code",
   "execution_count": 143,
   "metadata": {},
   "outputs": [],
   "source": [
    "# calculate the probabilities of each language for the input line\n",
    "# and returns a string form of the language that is most likely\n",
    "def choose_language(line):\n",
    "    # calculate probabilities of line being the given language\n",
    "    eng_prob = calc_probability(line, eng_bigrams, eng_unigrams)\n",
    "    fr_prob = calc_probability(line, fr_bigrams, fr_unigrams)\n",
    "    ital_prob = calc_probability(line, ital_bigrams, ital_unigrams)\n",
    "\n",
    "    # find highest likelihood language\n",
    "    highest_prob = max(eng_prob, fr_prob, ital_prob)\n",
    "\n",
    "    # return the language with the highest likelihood\n",
    "    if highest_prob == eng_prob:\n",
    "        return \" English\"\n",
    "    \n",
    "    if highest_prob == fr_prob:\n",
    "        return \" French\"\n",
    "\n",
    "    if highest_prob == ital_prob:\n",
    "        return \" Italian\"\n",
    "\n",
    "    # shouldn't be here....\n",
    "    return \":(\""
   ]
  },
  {
   "cell_type": "code",
   "execution_count": 145,
   "metadata": {},
   "outputs": [],
   "source": [
    "def calc_probability(line, bigrams, unigrams):\n",
    "    words = []\n",
    "    for word in line.split():\n",
    "            # strip all punctionation from each lowercased word\n",
    "            no_punc = re.sub(\"[@#$%&.,:;!]+\", '', word.lower())\n",
    "            words.append(no_punc)\n",
    "    \n",
    "    line_bigrams = create_bigrams(words)\n",
    "    \n",
    "    probabilities = {}\n",
    "    for bigram in line_bigrams.keys():\n",
    "        letter1 = bigram[0]\n",
    "        # calculating probabilities using LaPlace smoothing\n",
    "        if bigram in bigrams and letter1 in unigrams:\n",
    "            probabilities[bigram] = (bigrams[bigram] + 1) / (unigrams[letter1] + len(unigrams))\n",
    "        else:\n",
    "            probabilities[bigram] = 0\n",
    "\n",
    "    sum_prob = 0\n",
    "    for k in probabilities.keys():\n",
    "        sum_prob = sum_prob + probabilities[k]\n",
    "    \n",
    "    return sum_prob"
   ]
  },
  {
   "cell_type": "code",
   "execution_count": null,
   "metadata": {},
   "outputs": [],
   "source": []
  }
 ]
}