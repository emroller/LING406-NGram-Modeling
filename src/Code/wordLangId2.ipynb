{
 "metadata": {
  "language_info": {
   "codemirror_mode": {
    "name": "ipython",
    "version": 3
   },
   "file_extension": ".py",
   "mimetype": "text/x-python",
   "name": "python",
   "nbconvert_exporter": "python",
   "pygments_lexer": "ipython3",
   "version": "3.8.2-final"
  },
  "orig_nbformat": 2,
  "kernelspec": {
   "name": "python3",
   "display_name": "Python 3.8.2 64-bit",
   "metadata": {
    "interpreter": {
     "hash": "31f2aee4e71d21fbe5cf8b01ff0e069b9275f58929596ceb00d14d90e3e16cd6"
    }
   }
  }
 },
 "nbformat": 4,
 "nbformat_minor": 2,
 "cells": [
  {
   "cell_type": "code",
   "execution_count": 28,
   "metadata": {},
   "outputs": [],
   "source": [
    "import re\n",
    "import os"
   ]
  },
  {
   "cell_type": "code",
   "execution_count": 29,
   "metadata": {},
   "outputs": [],
   "source": [
    "# global variables\n",
    "eng_bigrams = None\n",
    "fr_bigrams = None\n",
    "ital_bigrams = None\n",
    "\n",
    "eng_unigrams = None\n",
    "fr_unigrams = None\n",
    "ital_unigrams = None"
   ]
  },
  {
   "cell_type": "code",
   "execution_count": 30,
   "metadata": {
    "tags": []
   },
   "outputs": [
    {
     "output_type": "error",
     "ename": "FileNotFoundError",
     "evalue": "[Errno 2] No such file or directory: '/LangId.train.English'",
     "traceback": [
      "\u001b[0;31m---------------------------------------------------------------------------\u001b[0m",
      "\u001b[0;31mFileNotFoundError\u001b[0m                         Traceback (most recent call last)",
      "\u001b[0;32m<ipython-input-30-6362765e816b>\u001b[0m in \u001b[0;36m<module>\u001b[0;34m\u001b[0m\n\u001b[1;32m      3\u001b[0m \u001b[0;31m# open all the input training files\u001b[0m\u001b[0;34m\u001b[0m\u001b[0;34m\u001b[0m\u001b[0;34m\u001b[0m\u001b[0m\n\u001b[1;32m      4\u001b[0m \u001b[0;31m# if you wish to change the path of the files to open, change them on the following three lines\u001b[0m\u001b[0;34m\u001b[0m\u001b[0;34m\u001b[0m\u001b[0;34m\u001b[0m\u001b[0m\n\u001b[0;32m----> 5\u001b[0;31m \u001b[0minput_eng\u001b[0m \u001b[0;34m=\u001b[0m \u001b[0mopen\u001b[0m\u001b[0;34m(\u001b[0m\u001b[0;34m\"/LangId.train.English\"\u001b[0m\u001b[0;34m)\u001b[0m\u001b[0;34m\u001b[0m\u001b[0;34m\u001b[0m\u001b[0m\n\u001b[0m\u001b[1;32m      6\u001b[0m \u001b[0minput_fr\u001b[0m \u001b[0;34m=\u001b[0m \u001b[0mopen\u001b[0m\u001b[0;34m(\u001b[0m\u001b[0;34m\"/LangId.train.French\"\u001b[0m\u001b[0;34m)\u001b[0m\u001b[0;34m\u001b[0m\u001b[0;34m\u001b[0m\u001b[0m\n\u001b[1;32m      7\u001b[0m \u001b[0minput_ital\u001b[0m \u001b[0;34m=\u001b[0m \u001b[0mopen\u001b[0m\u001b[0;34m(\u001b[0m\u001b[0;34m\"/LangId.train.Italian\"\u001b[0m\u001b[0;34m)\u001b[0m\u001b[0;34m\u001b[0m\u001b[0;34m\u001b[0m\u001b[0m\n",
      "\u001b[0;31mFileNotFoundError\u001b[0m: [Errno 2] No such file or directory: '/LangId.train.English'"
     ]
    }
   ],
   "source": [
    "# Start here \n",
    "\n",
    "# open all the input training files\n",
    "# if you wish to change the path of the files to open, change them on the following three lines\n",
    "input_eng = open(\"/LangId.train.English\")\n",
    "input_fr = open(\"/LangId.train.French\")\n",
    "input_ital = open(\"/LangId.train.Italian\")\n",
    "\n",
    "# create english, french, and italian letter bigram counts\n",
    "\n",
    "eng_bigrams = file_to_bigrams(input_eng)\n",
    "fr_bigrams = file_to_bigrams(input_fr)\n",
    "ital_bigrams = file_to_bigrams(input_ital)\n",
    "\n",
    "# create english, french, and italian letter unigram counts\n",
    "eng_unigrams = create_unigrams(input_eng)\n",
    "fr_unigrams = create_unigrams(input_fr)\n",
    "ital_unigrams = create_unigrams(input_ital)\n",
    "\n",
    "\n",
    "# open input testing file\n",
    "# if you wish to change your input test or output solution file names, do so on the following lines.\n",
    "input_test = open(\"/LangId.test\")\n",
    "# open output testing file (write to this)\n",
    "output_test = open(\"/wordLangId2.out\", \"w+\")\n",
    "\n",
    "line_count = 1\n",
    "\n",
    "# iterate through input file and write the most likely language for each line in output file\n",
    "for line in input_test.readlines():\n",
    "    # choose_language returns a string: \"English\", \"French\", or \"Italian\"\n",
    "    lang = choose_language(line)\n",
    "    # write it to output file along with line number\n",
    "    l = str(line_count) + lang + \"\\n\"\n",
    "    output_test.write(l)\n",
    "    line_count = line_count + 1\n",
    "\n",
    "input_eng.close()\n",
    "input_fr.close()\n",
    "input_ital.close()\n",
    "input_test.close()\n",
    "output_test.close()"
   ]
  },
  {
   "cell_type": "code",
   "execution_count": 21,
   "metadata": {},
   "outputs": [],
   "source": [
    "def create_unigrams(infile):\n",
    "    # so it can be read again\n",
    "    infile.seek(0)\n",
    "    lines = []\n",
    "    for line in infile.readlines():\n",
    "            # strip all punctionation from each lowercased word\n",
    "        no_punc = re.sub(\"[@#$%&.,:;!]+\", '', line.lower())\n",
    "        lines.append(no_punc)\n",
    "\n",
    "    unigrams = {}\n",
    "    for line in lines:\n",
    "        words = line.split()\n",
    "        for i in range(0, len(words) - 1):\n",
    "            ug = (words[i])\n",
    "            if ug not in unigrams.keys():\n",
    "                unigrams[ug] = 1  \n",
    "            else:\n",
    "                unigrams[ug] = unigrams[ug] + 1\n",
    "        \n",
    "    return unigrams "
   ]
  },
  {
   "cell_type": "code",
   "execution_count": 22,
   "metadata": {},
   "outputs": [],
   "source": [
    "# calls create bigrams\n",
    "# use this function when creating the bigram models from the training files \n",
    "def file_to_bigrams(infile):\n",
    "    lines = []\n",
    "    for line in infile.readlines():\n",
    "            # strip all punctionation from each lowercased word\n",
    "        no_punc = re.sub(\"[@#$%&.,:;!]+\", '', line.lower())\n",
    "        lines.append(no_punc)\n",
    "\n",
    "    bigrams = {}\n",
    "    for line in lines:\n",
    "        words = line.split()\n",
    "        for i in range(0, len(words) - 1):\n",
    "            bg = ((words[i], words[i+1]))\n",
    "            if bg not in bigrams.keys():\n",
    "                bigrams[bg] = 1  \n",
    "            else:\n",
    "                bigrams[bg] = bigrams[bg] + 1\n",
    "        \n",
    "    return bigrams \n"
   ]
  },
  {
   "cell_type": "code",
   "execution_count": 23,
   "metadata": {},
   "outputs": [],
   "source": [
    "# trains the model for a language\n",
    "# creates a dictionary of bigrams with keys = (bigram tuple), value = count\n",
    "# i.e. one entry might be ('t', 'h'): 3\n",
    "# takes just one line as input\n",
    "def create_bigrams(line):\n",
    "    \n",
    "    # create bigram ditionary\n",
    "    bigrams = {}\n",
    "    words = line.split()\n",
    "    for i in range(0, len(words) - 1):\n",
    "        bg = ((words[i], words[i+1]))\n",
    "        if bg not in bigrams.keys():\n",
    "            bigrams[bg] = 1  \n",
    "        else:\n",
    "            bigrams[bg] = bigrams[bg] + 1\n",
    "    return bigrams \n"
   ]
  },
  {
   "cell_type": "code",
   "execution_count": 24,
   "metadata": {},
   "outputs": [],
   "source": [
    "# calculate the probabilities of each language for the input line\n",
    "# and returns a string form of the language that is most likely\n",
    "def choose_language(line):\n",
    "\n",
    "    # calculate probabilities of line being the given language\n",
    "    eng_prob = calc_probability(line, eng_bigrams, eng_unigrams)\n",
    "    fr_prob = calc_probability(line, fr_bigrams, fr_unigrams)\n",
    "    ital_prob = calc_probability(line, ital_bigrams, ital_unigrams)\n",
    "\n",
    "    # find highest likelihood language\n",
    "    highest_prob = max(eng_prob, fr_prob, ital_prob)\n",
    "    # return the language with the highest likelihood\n",
    "    if highest_prob == eng_prob:\n",
    "        return \" English\"\n",
    "    \n",
    "    if highest_prob == fr_prob:\n",
    "        return \" French\"\n",
    "\n",
    "    if highest_prob == ital_prob:\n",
    "        return \" Italian\"\n",
    "\n",
    "\n",
    "    # shouldn't be here....\n",
    "    return \":(\""
   ]
  },
  {
   "cell_type": "code",
   "execution_count": 25,
   "metadata": {},
   "outputs": [],
   "source": [
    "# returns a dict of all the bigrams that occur between 0 and 9 times\n",
    "def low_frequencies(line_bigrams, language_bigrams):\n",
    "    low_freq_bigrams = {}\n",
    "    for bigram in line_bigrams.keys():\n",
    "        if bigram not in language_bigrams.keys():\n",
    "            low_freq_bigrams[bigram] = 0\n",
    "        elif language_bigrams[bigram] < 10:\n",
    "            low_freq_bigrams[bigram] = language_bigrams[bigram]\n",
    "\n",
    "    return low_freq_bigrams"
   ]
  },
  {
   "cell_type": "code",
   "execution_count": 26,
   "metadata": {},
   "outputs": [],
   "source": [
    "def calc_probability(line, bigrams, unigrams):\n",
    "    line_bigrams = create_bigrams(line.lower())\n",
    "    \n",
    "    probabilities = {}\n",
    "\n",
    "    low_freq_bigrams = low_frequencies(line_bigrams, bigrams)\n",
    "\n",
    "\n",
    "    num_seen_once = 0\n",
    "    for lf_bigram in low_freq_bigrams.keys():\n",
    "        if low_freq_bigrams[lf_bigram] == 1:\n",
    "            num_seen_once = num_seen_once + 1\n",
    "\n",
    "    for bigram in line_bigrams.keys():\n",
    "\n",
    "        letter1 = bigram[0]\n",
    "\n",
    "        # calculating low-frequency (< 10 occurrences) probabilities using Good-Turing smoothing:\n",
    "        # if the bigram has 0 occurrences, its GT probability = (# bigrams seen once) / (total # of bigrams)\n",
    "        # if the bigram has (n | n < 10) occurrences, its GT probability \n",
    "        #       = ((n+1) * (# bigrams seen n+1 times) / (# bigrams seen n times)) / (total # of bigrams)\n",
    "            \n",
    "        # bigram has low frequency\n",
    "        if bigram in low_freq_bigrams.keys():\n",
    "            # n = 0 occurrences\n",
    "            if low_freq_bigrams[bigram] == 0:\n",
    "                probabilities[bigram] = num_seen_once / len(bigrams)\n",
    "            # 1 <= n <= 9 occurrences\n",
    "            else:\n",
    "                n = low_freq_bigrams[bigram]\n",
    "                n_count = 0\n",
    "                n_plus_one_count = 0\n",
    "                # find number of bigrams that occur n + 1 times\n",
    "                for lf_b in low_freq_bigrams.keys():\n",
    "                    if low_freq_bigrams[lf_b] == n:\n",
    "                        n_count = n_count + 1\n",
    "                    elif low_freq_bigrams[lf_b] == n+ 1:\n",
    "                        n_plus_one_count = n_plus_one_count + 1\n",
    "\n",
    "                probabilities[bigram] = ((n + 1) * (n_plus_one_count / n_count)) / len(bigrams)\n",
    "        # occurrences are not low frequency\n",
    "        elif bigram in bigrams and letter1 in unigrams:\n",
    "            probabilities[bigram] = bigrams[bigram]  / unigrams[letter1] \n",
    "\n",
    "    sum_prob = 0\n",
    "    for k in probabilities.keys():\n",
    "        sum_prob = sum_prob + probabilities[k]\n",
    "    \n",
    "    return sum_prob"
   ]
  },
  {
   "cell_type": "code",
   "execution_count": null,
   "metadata": {},
   "outputs": [],
   "source": []
  }
 ]
}